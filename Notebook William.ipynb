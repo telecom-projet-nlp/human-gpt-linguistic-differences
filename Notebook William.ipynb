{
 "cells": [
  {
   "cell_type": "markdown",
   "metadata": {},
   "source": [
    "<center><img src=\"data:image/png;base64,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\" /></center>"
   ]
  },
  {
   "cell_type": "markdown",
   "metadata": {},
   "source": [
    "<h1><center><strong><font color=\"green\">IA 717: Linguistic Differences of Human-Human and AI-Generated Conversations</font></strong></center></h1>\n",
    "<h3><center><font color=\"blue\"><strong>Student Version</strong></font></center></h3>\n",
    "\n",
    "<center>\n",
    "<h3> Project Supervisor <br/> <a>Yi YU</a></h3>\n",
    "<email>yi.yu@inria.fr</email>\n",
    "<br/>\n",
    "\n",
    "Year 2025-2026\n",
    "</center>\n",
    "\n",
    "------------------------"
   ]
  },
  {
   "cell_type": "markdown",
   "metadata": {},
   "source": [
    "# <font color=\"green\">**Context & Objectives**</font>"
   ]
  },
  {
   "cell_type": "markdown",
   "metadata": {},
   "source": [
    "> The application of large language models (LLMs) in dialogue-based scenarios has become part of daily life since 2023. Human-LLM corpora are now available and enable the study on differences between Human-Human conversations and those generated by LLMs. The differences between these conversations can provide insights into potential alignment direction for current LLM-based chatbot with human expectations.\n",
    "\n",
    "The objective of this project is to study the linguistic difference between two chosen corpora, <a href=\"https://github.com/facebookresearch/EmpatheticDialogues\">EmpathicDialogues</a> and <a href=\"https://github.com/morganlee123/2GPTEmpathicDialogues\">2GPTEmpathicDialogues</a>. The second is created as a replica of the first one by prompting two independent instances of ChatGPT. \n",
    "\n",
    "The following image provides an example of two conversations genereated under the same scenario, one by human, the other by ChatGPT.\n",
    "![image.png](https://github.com/morganlee123/2GPTEmpathicDialogues/blob/main/paperfigures/exampledialogue.png?raw=true) \n",
    "\n",
    "We will first start with an exploration of basic concepts for conversation analysis (e.g. nb of turns per conversation, avg words per turn, etc.) and understand what has been studied within these two corpora in <a href=\"https://arxiv.org/abs/2401.16587\">this paper</a>. We will then compare these two corpora on our own, focusing on one linguistic feature for affect study introduced later and calculate it for each conversation.\n",
    "\n",
    "1) explore the mentioned corpora\n",
    "2) analyze the general information about each corpus: the size of corpus and the setting used for the corpus creation \n",
    "3) study one linguistic feature for collaborative state analysis, <a href=\"https://www.liwc.app/help/lsm\">language style matching</a>, calculate it for each pair of participants, human or ChatGPT, and finally compare the level of matching between two corpora\n",
    "4) build a baseline model for LLM-generated dialogue detection using only word embedding as feature\n",
    "5) add the calculated feature from step <a>3</a> to your baseline model to see if there is any improvement in performance\n",
    "6) highlight your findings during the experiment\n",
    "\n",
    "\n",
    "### <font color=\"green\">Evaluation</font>\n",
    "\n",
    "The project is evaluated through a presentation with a report and your completed project. Grades will be partly individual and partly collective. "
   ]
  },
  {
   "cell_type": "markdown",
   "metadata": {},
   "source": [
    "# <font color=\"green\">**1 & 2 - Data Retrieval & Analysis**</font>\n",
    "\n",
    "We need to download the two mentioned corpora using the link provided earlier. Each conversation in EmpatheticDialogue should be paired with a conversation in 2GPTEmpathicDialogues. Check if any conversation cannot be paired"
   ]
  },
  {
   "cell_type": "markdown",
   "metadata": {},
   "source": [
    "<font color=\"red\"> 1.1 Question: </font>  \n",
    "Preprocessing and Data Exploration — Answer the following:\n",
    "\n",
    "- How many conversations in EmpatheticDialogue can be paired with those in 2GPTEmpathicDialogues?  \n",
    "- What is the average number of turns per conversation in each corpus?  \n",
    "- What is the average number of words per conversation in both corpora?  \n",
    "- How are conversations distributed across different emotional contexts (e.g., annoyed, proud, furious)?  \n",
    "\n",
    "Present your findings using appropriate graphs and visualizations where possible."
   ]
  },
  {
   "cell_type": "markdown",
   "metadata": {},
   "source": [
    "<font color=\"orange\">1.1 Answer:</font> "
   ]
  },
  {
   "cell_type": "code",
   "execution_count": 237,
   "metadata": {},
   "outputs": [
    {
     "name": "stdout",
     "output_type": "stream",
     "text": [
      "<class 'pandas.core.frame.DataFrame'>\n",
      "RangeIndex: 84169 entries, 0 to 84168\n",
      "Data columns (total 8 columns):\n",
      " #   Column         Non-Null Count  Dtype \n",
      "---  ------         --------------  ----- \n",
      " 0   conv_id        84169 non-null  object\n",
      " 1   utterance_idx  84169 non-null  int64 \n",
      " 2   context        84169 non-null  object\n",
      " 3   prompt         84169 non-null  object\n",
      " 4   speaker_idx    84169 non-null  int64 \n",
      " 5   utterance      84169 non-null  object\n",
      " 6   selfeval       84169 non-null  object\n",
      " 7   tags           755 non-null    object\n",
      "dtypes: int64(2), object(6)\n",
      "memory usage: 5.1+ MB\n",
      "\n",
      "\n",
      "<class 'pandas.core.frame.DataFrame'>\n",
      "RangeIndex: 19533 entries, 0 to 19532\n",
      "Data columns (total 6 columns):\n",
      " #   Column      Non-Null Count  Dtype \n",
      "---  ------      --------------  ----- \n",
      " 0   Unnamed: 0  19533 non-null  int64 \n",
      " 1   conv_id     19533 non-null  object\n",
      " 2   context     19533 non-null  object\n",
      " 3   prompt      19533 non-null  object\n",
      " 4   gptgen      19533 non-null  object\n",
      " 5   processed   19533 non-null  object\n",
      "dtypes: int64(1), object(5)\n",
      "memory usage: 915.7+ KB\n"
     ]
    }
   ],
   "source": [
    "# imports\n",
    "import pandas as pd\n",
    "import numpy as np\n",
    "import os\n",
    "\n",
    "# read data\n",
    "dial_GPT = pd.read_csv('../data/GPT_dial/2GPTEmpathicDialoguesDataset.csv')\n",
    "dial_human_train = pd.read_csv('../data/empatheticdialogues/train.csv',quoting=3)\n",
    "\n",
    "# describe data\n",
    "dial_human_train.info()\n",
    "print(\"\\n\")\n",
    "dial_GPT.info()\n",
    "\n",
    "# Problèmes:\n",
    "# - les fichiers valid et test du dialogue humain ont des champs en trop. On décide de supprimer ces champs en trop (',,') pour pour pouvoir les lire\n",
    "# Solution:\n",
    "# - on concatène les trois fichiers: valid/test/train du dialogue humain\n",
    "# - on décide également de supprimer les champs jugés non pertinents dans les fichiers humains (derniers champs). On ne garde que les 6 premières colonnes (0 à 5)\n",
    "\n",
    "df_valid_human = pd.read_csv(\n",
    "    \"../data/empatheticdialogues/valid.csv\",\n",
    "    usecols=range(6),\n",
    "    engine=\"python\",\n",
    "    on_bad_lines=\"skip\",      # saute les lignes trop foireuses\n",
    "    quoting=3                 # 3 = csv.QUOTE_NONE → ignore les guillemets\n",
    ")\n",
    "\n",
    "df_test_human = pd.read_csv(\n",
    "    \"../data/empatheticdialogues/test.csv\",\n",
    "    usecols=range(6),\n",
    "    engine=\"python\",\n",
    "    on_bad_lines=\"skip\",   # saute les lignes corrompues\n",
    "    quoting=3              # ignore les guillemets\n",
    ")\n",
    "human_dial = pd.concat([df_valid_human, df_test_human, dial_human_train])\n"
   ]
  },
  {
   "cell_type": "code",
   "execution_count": 7,
   "metadata": {},
   "outputs": [],
   "source": [
    "# Construction des données:\n",
    "# Deux attributs permettent de définir la structure du dialogue humain:\n",
    "# - conv Id : il indique le paquet de bulles\n",
    "# - uturance Id qui indique la position de la bulle dans le paquet de bulles (conv Id)\n",
    "\n",
    "# Ces attributs n'existent pas dans le dialogue GPT. Le terme GPTgen rassemble ces deux parties (conv Id et uturance Id). Il faut donc spliter GPTgen en deux\n",
    "# parties. Je vais donc devoir construire des attribut Id à partir de GPgen et pour chaque conv Id\n",
    "# Comparaison de processed et GptGen: on a la même information (chaine de string avec les dialogues associés). Dans lprocessed, nous n'avons cependant pas l'identificatino \n",
    "# des speakers. La création de l'attribut ID va donc être plus facile avec processed qu'avec GPTgen, puisqu'on va utiliser le retour chariot pour créer l'attribut ID suivant.\n",
    "# Remarque importante: on va construire un attribut ID pour les deux (human et GPT). L'attribut Id de human sera donc modifié.\n",
    "\n",
    "\n",
    "# Après avoir créé les attribut_id pour GPT, on se rend compte chaque tour par quatre balises différentes possibles: speaker/listener/assistant1/assistant2.\n",
    "# On se pose la question de savoir s'il faut retenir attribut 1/attribut 2 et/ou speaker/listener.\n",
    "# L'étude du code nous montre qu'il existe deux GPT qui essaient de converser : attribut 1 et attribut 2.\n",
    "# Problème: dans certains cas, le GPT se retrouve à être speaker puis à enchainer en étant listener, puis speaker ... avant d'être interrompu par le deuxième GPT et changer d'assitant.\n",
    "# On remarque également que la séparation listener/speaker au sein d'un même tour attribut est séparé par un double retour chariot (/n/n) alors que la séparation\n",
    "# attribut 1/attribut2 est faite par un simple /n.\n",
    "\n",
    "# Choix faits: on décide que les monologues listener/speaker générés pas un GPT ont du sens linguistique. On décide donc de les garder. \n",
    "# Il subsiste cependant une interrogation sur la gestion des éléments tronqués:\n",
    "# - assistant qui a coupé la parole qui commence à parler avec une phrase tronquée qui commence par une ponctuation, minuscule ...\n",
    "# - assistant qui a la parole coupée qui ne termine pas sa phrase.\n",
    "# Dans ces deux cas, les phrases n'ont pas de sens. \n",
    "# Problématique de ces interventions tronquées:\n",
    "# - elles n'ont pas de sens linguistique;\n",
    "# - on a un enchaninement assistant 1 (speaker) -> assistant 2 (speaker)\n",
    "# On a donc l'enchainement de speaker/speaker ou listener/listener qui font perdre l'alternance logique speaker/listener.\n",
    "\n",
    "\n",
    "\n",
    "\n",
    " "
   ]
  },
  {
   "cell_type": "code",
   "execution_count": 150,
   "metadata": {},
   "outputs": [
    {
     "data": {
      "application/vnd.microsoft.datawrangler.viewer.v0+json": {
       "columns": [
        {
         "name": "index",
         "rawType": "int64",
         "type": "integer"
        },
        {
         "name": "Unnamed: 0",
         "rawType": "int64",
         "type": "integer"
        },
        {
         "name": "conv_id",
         "rawType": "object",
         "type": "string"
        },
        {
         "name": "context",
         "rawType": "object",
         "type": "string"
        },
        {
         "name": "prompt",
         "rawType": "object",
         "type": "string"
        },
        {
         "name": "gptgen",
         "rawType": "object",
         "type": "string"
        },
        {
         "name": "processed",
         "rawType": "object",
         "type": "string"
        }
       ],
       "ref": "880481ef-fcce-4286-aeee-cebbb8038239",
       "rows": [
        [
         "0",
         "0",
         "hit:0_conv:1",
         "sentimental",
         "I remember going to the fireworks with my best friend. There was a lot of people_comma_ but it only felt like us in the world.",
         "assistant1: I know exactly what you mean. There's something magical about being surrounded by a crowd of people, yet feeling like it's just you and your best friend in that moment. It's as if time stands still, and all that matters is the bond you share.\nassistant2: That sounds like such a special and beautiful experience. It's amazing how certain moments can make us feel so connected and close to someone, even in the midst of a crowd. It's like the world fades away and all that matters is the deep connection between you and your best friend.\nassistant1: Absolutely, it truly was a special and beautiful experience. You're right, those moments when it feels like the world fades away and all that matters is the connection between you and your best friend are truly magical. It's like time stands still and all the noise and distractions around us just disappear. It's in those moments that we realize how much we mean to each other and how fortunate we are to have such a strong bond.\nassistant2: I completely understand what you're saying. It's those moments of pure connection and intimacy that can make us feel so alive and grateful. It's like the world fades away, and all that matters is the deep bond between you and your best friend. It's in those moments that we truly appreciate the power of friendship and how it can bring so much joy and comfort. It sounds like you've had some truly magical experiences, and I'm glad you've been able to cherish them.",
         " i know exactly what you mean. there's something magical about being surrounded by a crowd of people, yet feeling like it's just you and your best friend in that moment. it's as if time stands still, and all that matters is the bond you share.\n that sounds like such a special and beautiful experience. it's amazing how certain moments can make us feel so connected and close to someone, even in the midst of a crowd. it's like the world fades away and all that matters is the deep connection between you and your best friend.\n absolutely, it truly was a special and beautiful experience. you're right, those moments when it feels like the world fades away and all that matters is the connection between you and your best friend are truly magical. it's like time stands still and all the noise and distractions around us just disappear. it's in those moments that we realize how much we mean to each other and how fortunate we are to have such a strong bond.\n i completely understand what you're saying. it's those moments of pure connection and intimacy that can make us feel so alive and grateful. it's like the world fades away, and all that matters is the deep bond between you and your best friend. it's in those moments that we truly appreciate the power of friendship and how it can bring so much joy and comfort. it sounds like you've had some truly magical experiences, and i'm glad you've been able to cherish them."
        ],
        [
         "1",
         "1",
         "hit:10000_conv:20000",
         "surprised",
         "My girlfriend got me a toad today! I was so shocked and happy!",
         "assistant1: That's amazing! How did she know you wanted a toad?\nassistant2: Wow, that sounds like such a cool surprise! It must have been really special for her to know exactly what you wanted.\nassistant1: Yes, it was absolutely amazing! I never expected her to get me a toad, but she knows how much I love them. It just goes to show how well she knows me. I couldn't be happier!\nassistant2: Wow, it sounds like your friend has a great understanding of your interests and preferences. It must feel really special to have someone who knows you so well. I can imagine how happy and grateful you must be for such a thoughtful gift.",
         " that's amazing! how did she know you wanted a toad?\n wow, that sounds like such a cool surprise! it must have been really special for her to know exactly what you wanted.\n yes, it was absolutely amazing! i never expected her to get me a toad, but she knows how much i love them. it just goes to show how well she knows me. i couldn't be happier!\n wow, it sounds like your friend has a great understanding of your interests and preferences. it must feel really special to have someone who knows you so well. i can imagine how happy and grateful you must be for such a thoughtful gift."
        ],
        [
         "2",
         "2",
         "hit:10000_conv:20001",
         "impressed",
         "I really like the new paint job on my house.",
         "assistant1: Listener: Hey, have you seen the new paint job on my house?\n\nSpeaker: Wow, I must say, I'm really impressed! The new paint job looks absolutely fantastic! It adds such a vibrant and fresh look to your house. How did you choose the color?\nassistant2: Listener: I can definitely see why you're impressed! The new paint job really does look fantastic. The color you chose is so vibrant and it really brings out the best in your house. I'm curious, how did you go about choosing that specific color?\nassistant1: Speaker: Thank you! I'm glad you think so too. Choosing the color was actually quite a process. I wanted something that would make a statement and add some personality to my house. So, I spent a lot of time researching different color palettes and considering what would complement the architecture and surroundings. In the end, I went with this vibrant shade of blue because it really stood out and gave the house a fresh and modern look.\nassistant2: Listener: It sounds like you put a lot of thought and effort into choosing the color, and it definitely paid off. The vibrant shade of blue really does make a statement and gives your house a unique and modern look. I can imagine how exciting it must have been to see the transformation take place. It's always refreshing to make changes to our living spaces and see our vision come to life.",
         "  hey, have you seen the new paint job on my house?\n\n wow, i must say, i'm really impressed! the new paint job looks absolutely fantastic! it adds such a vibrant and fresh look to your house. how did you choose the color?\n  i can definitely see why you're impressed! the new paint job really does look fantastic. the color you chose is so vibrant and it really brings out the best in your house. i'm curious, how did you go about choosing that specific color?\n  thank you! i'm glad you think so too. choosing the color was actually quite a process. i wanted something that would make a statement and add some personality to my house. so, i spent a lot of time researching different color palettes and considering what would complement the architecture and surroundings. in the end, i went with this vibrant shade of blue because it really stood out and gave the house a fresh and modern look.\n  it sounds like you put a lot of thought and effort into choosing the color, and it definitely paid off. the vibrant shade of blue really does make a statement and gives your house a unique and modern look. i can imagine how exciting it must have been to see the transformation take place. it's always refreshing to make changes to our living spaces and see our vision come to life."
        ],
        [
         "3",
         "3",
         "hit:10001_conv:20002",
         "lonely",
         "I went to the skating rink all by myself today because my friends ditched me. I was so sad.",
         "assistant1: Listener: Hey, how's it going?\n\nSpeaker: Hey there. I'm feeling a bit down, to be honest. I went to the skating rink all by myself today because my friends ditched me. It was quite sad. How about you? How's your day been?\nassistant2: Listener: Oh, I'm sorry to hear that you had to go to the skating rink alone. It can be tough when plans don't work out as expected. As for me, my day has been alright so far. Is there anything specific that's been bothering you about today?\nassistant1: Speaker: Yeah, it was definitely tough going to the skating rink alone. I was really looking forward to spending time with my friends, but they ended up ditching me. It made me feel really lonely and left out. I guess I just feel a bit down about it, you know? How about you? What's been going on with your day?\nassistant2: Listener: I'm sorry to hear that you had to go to the skating rink alone and that your friends ditched you. It's understandable that you would feel down about it. Feeling lonely and left out can be really tough. As for my day, it's been alright so far. Nothing too eventful. Is there anything else you want to talk about or anything I can do to support you?",
         "  hey, how's it going?\n\n hey there. i'm feeling a bit down, to be honest. i went to the skating rink all by myself today because my friends ditched me. it was quite sad. how about you? how's your day been?\n  oh, i'm sorry to hear that you had to go to the skating rink alone. it can be tough when plans don't work out as expected. as for me, my day has been alright so far. is there anything specific that's been bothering you about today?\n  yeah, it was definitely tough going to the skating rink alone. i was really looking forward to spending time with my friends, but they ended up ditching me. it made me feel really lonely and left out. i guess i just feel a bit down about it, you know? how about you? what's been going on with your day?\n  i'm sorry to hear that you had to go to the skating rink alone and that your friends ditched you. it's understandable that you would feel down about it. feeling lonely and left out can be really tough. as for my day, it's been alright so far. nothing too eventful. is there anything else you want to talk about or anything i can do to support you?"
        ],
        [
         "4",
         "4",
         "hit:10002_conv:20004",
         "ashamed",
         "I was walking on the road. I saw beggar and i did not help him",
         "assistant1: Speaker: Hey, I need to get something off my chest. I saw something today that I'm really ashamed of.\n\nListener: What happened? What's bothering you?\n\nSpeaker: Well, I was walking on the road earlier and I saw a beggar asking for help. But instead of offering any assistance, I just kept walking. I feel terrible about it.\n\nListener: Oh, I see. It's understandable that you're feeling ashamed. Can you tell me why you didn't help?\n\nSpeaker: Honestly, I'm not sure why I didn't help. Maybe I was in a rush or caught up in my own thoughts. But that's no excuse for not extending a helping hand to someone in need.\n\nListener: It's true that we all have moments where we may not act as we would like to. But recognizing and acknowledging our mistakes is an important step towards personal growth. Have you thought about what you could do differently next time?\n\nSpeaker: Yes, definitely. I've been reflecting on this incident, and I realize that I need to be more aware of my surroundings and the needs of others. Next time, I want to make a conscious effort to be kinder and more compassionate, especially towards those who are less fortunate.\n\nListener\nassistant2: That's a great plan. Being more mindful of our actions and actively seeking opportunities to help others can make a big difference. It's commendable that you're taking this experience as a learning opportunity and striving to do better in the future. Remember, we all make mistakes, but it's how we grow from them that truly matters.\nassistant1: Thank you for your understanding. It's true, this experience has really made me reflect on my actions and the kind of person I want to be. I don't want to let shame hold me back from doing what's right. I will definitely make a conscious effort to be more mindful and compassionate towards others in the future.\nassistant2: That's a great mindset to have. It takes courage to acknowledge our mistakes and make a commitment to change. Remember, nobody is perfect, and we all have moments where we fall short of our own expectations. The important thing is to learn from those moments and strive to do better. I believe that with your reflection and determination, you will be able to make a positive impact on others' lives.",
         "  hey, i need to get something off my chest. i saw something today that i'm really ashamed of.\n\n what happened? what's bothering you?\n\n well, i was walking on the road earlier and i saw a beggar asking for help. but instead of offering any assistance, i just kept walking. i feel terrible about it.\n\n oh, i see. it's understandable that you're feeling ashamed. can you tell me why you didn't help?\n\n honestly, i'm not sure why i didn't help. maybe i was in a rush or caught up in my own thoughts. but that's no excuse for not extending a helping hand to someone in need.\n\n it's true that we all have moments where we may not act as we would like to. but recognizing and acknowledging our mistakes is an important step towards personal growth. have you thought about what you could do differently next time?\n\n yes, definitely. i've been reflecting on this incident, and i realize that i need to be more aware of my surroundings and the needs of others. next time, i want to make a conscious effort to be kinder and more compassionate, especially towards those who are less fortunate.\n\nlistener\n that's a great plan. being more mindful of our actions and actively seeking opportunities to help others can make a big difference. it's commendable that you're taking this experience as a learning opportunity and striving to do better in the future. remember, we all make mistakes, but it's how we grow from them that truly matters.\n thank you for your understanding. it's true, this experience has really made me reflect on my actions and the kind of person i want to be. i don't want to let shame hold me back from doing what's right. i will definitely make a conscious effort to be more mindful and compassionate towards others in the future.\n that's a great mindset to have. it takes courage to acknowledge our mistakes and make a commitment to change. remember, nobody is perfect, and we all have moments where we fall short of our own expectations. the important thing is to learn from those moments and strive to do better. i believe that with your reflection and determination, you will be able to make a positive impact on others' lives."
        ]
       ],
       "shape": {
        "columns": 6,
        "rows": 5
       }
      },
      "text/html": [
       "<div>\n",
       "<style scoped>\n",
       "    .dataframe tbody tr th:only-of-type {\n",
       "        vertical-align: middle;\n",
       "    }\n",
       "\n",
       "    .dataframe tbody tr th {\n",
       "        vertical-align: top;\n",
       "    }\n",
       "\n",
       "    .dataframe thead th {\n",
       "        text-align: right;\n",
       "    }\n",
       "</style>\n",
       "<table border=\"1\" class=\"dataframe\">\n",
       "  <thead>\n",
       "    <tr style=\"text-align: right;\">\n",
       "      <th></th>\n",
       "      <th>Unnamed: 0</th>\n",
       "      <th>conv_id</th>\n",
       "      <th>context</th>\n",
       "      <th>prompt</th>\n",
       "      <th>gptgen</th>\n",
       "      <th>processed</th>\n",
       "    </tr>\n",
       "  </thead>\n",
       "  <tbody>\n",
       "    <tr>\n",
       "      <th>0</th>\n",
       "      <td>0</td>\n",
       "      <td>hit:0_conv:1</td>\n",
       "      <td>sentimental</td>\n",
       "      <td>I remember going to the fireworks with my best...</td>\n",
       "      <td>assistant1: I know exactly what you mean. Ther...</td>\n",
       "      <td>i know exactly what you mean. there's somethi...</td>\n",
       "    </tr>\n",
       "    <tr>\n",
       "      <th>1</th>\n",
       "      <td>1</td>\n",
       "      <td>hit:10000_conv:20000</td>\n",
       "      <td>surprised</td>\n",
       "      <td>My girlfriend got me a toad today! I was so sh...</td>\n",
       "      <td>assistant1: That's amazing! How did she know y...</td>\n",
       "      <td>that's amazing! how did she know you wanted a...</td>\n",
       "    </tr>\n",
       "    <tr>\n",
       "      <th>2</th>\n",
       "      <td>2</td>\n",
       "      <td>hit:10000_conv:20001</td>\n",
       "      <td>impressed</td>\n",
       "      <td>I really like the new paint job on my house.</td>\n",
       "      <td>assistant1: Listener: Hey, have you seen the n...</td>\n",
       "      <td>hey, have you seen the new paint job on my h...</td>\n",
       "    </tr>\n",
       "    <tr>\n",
       "      <th>3</th>\n",
       "      <td>3</td>\n",
       "      <td>hit:10001_conv:20002</td>\n",
       "      <td>lonely</td>\n",
       "      <td>I went to the skating rink all by myself today...</td>\n",
       "      <td>assistant1: Listener: Hey, how's it going?\\n\\n...</td>\n",
       "      <td>hey, how's it going?\\n\\n hey there. i'm feel...</td>\n",
       "    </tr>\n",
       "    <tr>\n",
       "      <th>4</th>\n",
       "      <td>4</td>\n",
       "      <td>hit:10002_conv:20004</td>\n",
       "      <td>ashamed</td>\n",
       "      <td>I was walking on the road. I saw beggar and i ...</td>\n",
       "      <td>assistant1: Speaker: Hey, I need to get someth...</td>\n",
       "      <td>hey, i need to get something off my chest. i...</td>\n",
       "    </tr>\n",
       "  </tbody>\n",
       "</table>\n",
       "</div>"
      ],
      "text/plain": [
       "   Unnamed: 0               conv_id      context  \\\n",
       "0           0          hit:0_conv:1  sentimental   \n",
       "1           1  hit:10000_conv:20000    surprised   \n",
       "2           2  hit:10000_conv:20001    impressed   \n",
       "3           3  hit:10001_conv:20002       lonely   \n",
       "4           4  hit:10002_conv:20004      ashamed   \n",
       "\n",
       "                                              prompt  \\\n",
       "0  I remember going to the fireworks with my best...   \n",
       "1  My girlfriend got me a toad today! I was so sh...   \n",
       "2       I really like the new paint job on my house.   \n",
       "3  I went to the skating rink all by myself today...   \n",
       "4  I was walking on the road. I saw beggar and i ...   \n",
       "\n",
       "                                              gptgen  \\\n",
       "0  assistant1: I know exactly what you mean. Ther...   \n",
       "1  assistant1: That's amazing! How did she know y...   \n",
       "2  assistant1: Listener: Hey, have you seen the n...   \n",
       "3  assistant1: Listener: Hey, how's it going?\\n\\n...   \n",
       "4  assistant1: Speaker: Hey, I need to get someth...   \n",
       "\n",
       "                                           processed  \n",
       "0   i know exactly what you mean. there's somethi...  \n",
       "1   that's amazing! how did she know you wanted a...  \n",
       "2    hey, have you seen the new paint job on my h...  \n",
       "3    hey, how's it going?\\n\\n hey there. i'm feel...  \n",
       "4    hey, i need to get something off my chest. i...  "
      ]
     },
     "execution_count": 150,
     "metadata": {},
     "output_type": "execute_result"
    }
   ],
   "source": [
    "# on travaille sur gpt_dial\n",
    "dial_GPT.head()"
   ]
  },
  {
   "cell_type": "code",
   "execution_count": 151,
   "metadata": {},
   "outputs": [
    {
     "name": "stdout",
     "output_type": "stream",
     "text": [
      " i know exactly what you mean. there's something magical about being surrounded by a crowd of people, yet feeling like it's just you and your best friend in that moment. it's as if time stands still, and all that matters is the bond you share.\n",
      " that sounds like such a special and beautiful experience. it's amazing how certain moments can make us feel so connected and close to someone, even in the midst of a crowd. it's like the world fades away and all that matters is the deep connection between you and your best friend.\n",
      " absolutely, it truly was a special and beautiful experience. you're right, those moments when it feels like the world fades away and all that matters is the connection between you and your best friend are truly magical. it's like time stands still and all the noise and distractions around us just disappear. it's in those moments that we realize how much we mean to each other and how fortunate we are to have such a strong bond.\n",
      " i completely understand what you're saying. it's those moments of pure connection and intimacy that can make us feel so alive and grateful. it's like the world fades away, and all that matters is the deep bond between you and your best friend. it's in those moments that we truly appreciate the power of friendship and how it can bring so much joy and comfort. it sounds like you've had some truly magical experiences, and i'm glad you've been able to cherish them.\n"
     ]
    }
   ],
   "source": [
    "\n",
    "# création d'une liste intermédiaire à partir de la colonne 'gptgen' du dataframe dial_GPT\n",
    "# On suppose que chaque dialogue est séparé par un retour à la ligne\n",
    "print(dial_GPT['processed'][0])\n"
   ]
  },
  {
   "cell_type": "code",
   "execution_count": 238,
   "metadata": {},
   "outputs": [
    {
     "name": "stdout",
     "output_type": "stream",
     "text": [
      "[\" i know exactly what you mean. there's something magical about being surrounded by a crowd of people, yet feeling like it's just you and your best friend in that moment. it's as if time stands still, and all that matters is the bond you share.\", \" that sounds like such a special and beautiful experience. it's amazing how certain moments can make us feel so connected and close to someone, even in the midst of a crowd. it's like the world fades away and all that matters is the deep connection between you and your best friend.\", \" absolutely, it truly was a special and beautiful experience. you're right, those moments when it feels like the world fades away and all that matters is the connection between you and your best friend are truly magical. it's like time stands still and all the noise and distractions around us just disappear. it's in those moments that we realize how much we mean to each other and how fortunate we are to have such a strong bond.\", \" i completely understand what you're saying. it's those moments of pure connection and intimacy that can make us feel so alive and grateful. it's like the world fades away, and all that matters is the deep bond between you and your best friend. it's in those moments that we truly appreciate the power of friendship and how it can bring so much joy and comfort. it sounds like you've had some truly magical experiences, and i'm glad you've been able to cherish them.\"]\n",
      "le nombre de conversations communes: 19533\n"
     ]
    }
   ],
   "source": [
    "# Séparer les dialogues (bulles) en faisant un retour chariot \n",
    "dial_GPT['processed']=dial_GPT['processed'].str.split(\"\\n\")\n",
    "print(dial_GPT['processed'][0])\n",
    "\n",
    "# explode\n",
    "dial_GPT2=dial_GPT.explode('processed')\n",
    "dial_GPT2 = dial_GPT2[dial_GPT2['processed'] != \"\"] # suppression des dialogues vides\n",
    "dial_GPT2['utterance_idx']=dial_GPT2.groupby('conv_id').cumcount()+1\n",
    "\n",
    "# merge des deux df\n",
    "dial_merge = pd.merge(dial_GPT2,human_dial,on=['conv_id','utterance_idx'],how='outer')\n",
    "print(f'le nombre de conversations communes:',len(set(dial_GPT2['conv_id']).intersection(set(human_dial['conv_id']))))\n"
   ]
  },
  {
   "cell_type": "code",
   "execution_count": 153,
   "metadata": {},
   "outputs": [
    {
     "data": {
      "application/vnd.microsoft.datawrangler.viewer.v0+json": {
       "columns": [
        {
         "name": "index",
         "rawType": "int64",
         "type": "integer"
        },
        {
         "name": "Unnamed: 0",
         "rawType": "int64",
         "type": "integer"
        },
        {
         "name": "conv_id",
         "rawType": "object",
         "type": "string"
        },
        {
         "name": "context",
         "rawType": "object",
         "type": "string"
        },
        {
         "name": "prompt",
         "rawType": "object",
         "type": "string"
        },
        {
         "name": "gptgen",
         "rawType": "object",
         "type": "string"
        },
        {
         "name": "processed",
         "rawType": "object",
         "type": "string"
        },
        {
         "name": "utterance_idx",
         "rawType": "int64",
         "type": "integer"
        }
       ],
       "ref": "c563cc40-8369-4f21-a27a-44db6c70c161",
       "rows": [
        [
         "0",
         "0",
         "hit:0_conv:1",
         "sentimental",
         "I remember going to the fireworks with my best friend. There was a lot of people_comma_ but it only felt like us in the world.",
         "assistant1: I know exactly what you mean. There's something magical about being surrounded by a crowd of people, yet feeling like it's just you and your best friend in that moment. It's as if time stands still, and all that matters is the bond you share.\nassistant2: That sounds like such a special and beautiful experience. It's amazing how certain moments can make us feel so connected and close to someone, even in the midst of a crowd. It's like the world fades away and all that matters is the deep connection between you and your best friend.\nassistant1: Absolutely, it truly was a special and beautiful experience. You're right, those moments when it feels like the world fades away and all that matters is the connection between you and your best friend are truly magical. It's like time stands still and all the noise and distractions around us just disappear. It's in those moments that we realize how much we mean to each other and how fortunate we are to have such a strong bond.\nassistant2: I completely understand what you're saying. It's those moments of pure connection and intimacy that can make us feel so alive and grateful. It's like the world fades away, and all that matters is the deep bond between you and your best friend. It's in those moments that we truly appreciate the power of friendship and how it can bring so much joy and comfort. It sounds like you've had some truly magical experiences, and I'm glad you've been able to cherish them.",
         " i know exactly what you mean. there's something magical about being surrounded by a crowd of people, yet feeling like it's just you and your best friend in that moment. it's as if time stands still, and all that matters is the bond you share.",
         "1"
        ],
        [
         "0",
         "0",
         "hit:0_conv:1",
         "sentimental",
         "I remember going to the fireworks with my best friend. There was a lot of people_comma_ but it only felt like us in the world.",
         "assistant1: I know exactly what you mean. There's something magical about being surrounded by a crowd of people, yet feeling like it's just you and your best friend in that moment. It's as if time stands still, and all that matters is the bond you share.\nassistant2: That sounds like such a special and beautiful experience. It's amazing how certain moments can make us feel so connected and close to someone, even in the midst of a crowd. It's like the world fades away and all that matters is the deep connection between you and your best friend.\nassistant1: Absolutely, it truly was a special and beautiful experience. You're right, those moments when it feels like the world fades away and all that matters is the connection between you and your best friend are truly magical. It's like time stands still and all the noise and distractions around us just disappear. It's in those moments that we realize how much we mean to each other and how fortunate we are to have such a strong bond.\nassistant2: I completely understand what you're saying. It's those moments of pure connection and intimacy that can make us feel so alive and grateful. It's like the world fades away, and all that matters is the deep bond between you and your best friend. It's in those moments that we truly appreciate the power of friendship and how it can bring so much joy and comfort. It sounds like you've had some truly magical experiences, and I'm glad you've been able to cherish them.",
         " that sounds like such a special and beautiful experience. it's amazing how certain moments can make us feel so connected and close to someone, even in the midst of a crowd. it's like the world fades away and all that matters is the deep connection between you and your best friend.",
         "2"
        ]
       ],
       "shape": {
        "columns": 7,
        "rows": 2
       }
      },
      "text/html": [
       "<div>\n",
       "<style scoped>\n",
       "    .dataframe tbody tr th:only-of-type {\n",
       "        vertical-align: middle;\n",
       "    }\n",
       "\n",
       "    .dataframe tbody tr th {\n",
       "        vertical-align: top;\n",
       "    }\n",
       "\n",
       "    .dataframe thead th {\n",
       "        text-align: right;\n",
       "    }\n",
       "</style>\n",
       "<table border=\"1\" class=\"dataframe\">\n",
       "  <thead>\n",
       "    <tr style=\"text-align: right;\">\n",
       "      <th></th>\n",
       "      <th>Unnamed: 0</th>\n",
       "      <th>conv_id</th>\n",
       "      <th>context</th>\n",
       "      <th>prompt</th>\n",
       "      <th>gptgen</th>\n",
       "      <th>processed</th>\n",
       "      <th>utterance_idx</th>\n",
       "    </tr>\n",
       "  </thead>\n",
       "  <tbody>\n",
       "    <tr>\n",
       "      <th>0</th>\n",
       "      <td>0</td>\n",
       "      <td>hit:0_conv:1</td>\n",
       "      <td>sentimental</td>\n",
       "      <td>I remember going to the fireworks with my best...</td>\n",
       "      <td>assistant1: I know exactly what you mean. Ther...</td>\n",
       "      <td>i know exactly what you mean. there's somethi...</td>\n",
       "      <td>1</td>\n",
       "    </tr>\n",
       "    <tr>\n",
       "      <th>0</th>\n",
       "      <td>0</td>\n",
       "      <td>hit:0_conv:1</td>\n",
       "      <td>sentimental</td>\n",
       "      <td>I remember going to the fireworks with my best...</td>\n",
       "      <td>assistant1: I know exactly what you mean. Ther...</td>\n",
       "      <td>that sounds like such a special and beautiful...</td>\n",
       "      <td>2</td>\n",
       "    </tr>\n",
       "  </tbody>\n",
       "</table>\n",
       "</div>"
      ],
      "text/plain": [
       "   Unnamed: 0       conv_id      context  \\\n",
       "0           0  hit:0_conv:1  sentimental   \n",
       "0           0  hit:0_conv:1  sentimental   \n",
       "\n",
       "                                              prompt  \\\n",
       "0  I remember going to the fireworks with my best...   \n",
       "0  I remember going to the fireworks with my best...   \n",
       "\n",
       "                                              gptgen  \\\n",
       "0  assistant1: I know exactly what you mean. Ther...   \n",
       "0  assistant1: I know exactly what you mean. Ther...   \n",
       "\n",
       "                                           processed  utterance_idx  \n",
       "0   i know exactly what you mean. there's somethi...              1  \n",
       "0   that sounds like such a special and beautiful...              2  "
      ]
     },
     "execution_count": 153,
     "metadata": {},
     "output_type": "execute_result"
    }
   ],
   "source": [
    "dial_GPT2.head(2)\n"
   ]
  },
  {
   "cell_type": "code",
   "execution_count": 239,
   "metadata": {},
   "outputs": [
    {
     "name": "stdout",
     "output_type": "stream",
     "text": [
      "moyenne d utterance human_dial: 4.31\n",
      "moyenne d utterance GPT_dial :8.24\n",
      "moyenne de mots par utterance human_dial : 13.71\n",
      "moyenne de mots par utterance GPT_dial: 36.42\n"
     ]
    }
   ],
   "source": [
    "# compte de tours par conversations (human et GPT) - nombre d'uturance dans chaque conv_id\n",
    "# GPT\n",
    "utterance_GPT_count = dial_GPT2.groupby('conv_id')['utterance_idx'].count().mean()\n",
    "utterance_human_count = human_dial.groupby('conv_id')['utterance_idx'].count().mean()\n",
    "\n",
    "print(f'moyenne d utterance human_dial: {utterance_human_count:.2f}')\n",
    "print(f'moyenne d utterance GPT_dial :{utterance_GPT_count:.2f}')\n",
    "\n",
    "# moyenne des mots dans chaque utterance\n",
    "words_GPT_count = dial_GPT2['processed'].str.split().str.len().mean()\n",
    "word_human_count = human_dial['utterance'].str.split().str.len().mean()\n",
    "\n",
    "print(f'moyenne de mots par utterance human_dial : {word_human_count:.2f}')\n",
    "print(f'moyenne de mots par utterance GPT_dial: {words_GPT_count:.2f}')\n"
   ]
  },
  {
   "cell_type": "code",
   "execution_count": 240,
   "metadata": {},
   "outputs": [
    {
     "data": {
      "text/plain": [
       "([0,\n",
       "  1,\n",
       "  2,\n",
       "  3,\n",
       "  4,\n",
       "  5,\n",
       "  6,\n",
       "  7,\n",
       "  8,\n",
       "  9,\n",
       "  10,\n",
       "  11,\n",
       "  12,\n",
       "  13,\n",
       "  14,\n",
       "  15,\n",
       "  16,\n",
       "  17,\n",
       "  18,\n",
       "  19,\n",
       "  20,\n",
       "  21,\n",
       "  22,\n",
       "  23,\n",
       "  24,\n",
       "  25,\n",
       "  26,\n",
       "  27,\n",
       "  28,\n",
       "  29,\n",
       "  30,\n",
       "  31],\n",
       " [Text(0, 0, 'surprised'),\n",
       "  Text(1, 0, 'excited'),\n",
       "  Text(2, 0, 'terrified'),\n",
       "  Text(3, 0, 'angry'),\n",
       "  Text(4, 0, 'annoyed'),\n",
       "  Text(5, 0, 'afraid'),\n",
       "  Text(6, 0, 'furious'),\n",
       "  Text(7, 0, 'proud'),\n",
       "  Text(8, 0, 'prepared'),\n",
       "  Text(9, 0, 'nostalgic'),\n",
       "  Text(10, 0, 'joyful'),\n",
       "  Text(11, 0, 'sad'),\n",
       "  Text(12, 0, 'grateful'),\n",
       "  Text(13, 0, 'jealous'),\n",
       "  Text(14, 0, 'hopeful'),\n",
       "  Text(15, 0, 'anxious'),\n",
       "  Text(16, 0, 'confident'),\n",
       "  Text(17, 0, 'lonely'),\n",
       "  Text(18, 0, 'anticipating'),\n",
       "  Text(19, 0, 'disappointed'),\n",
       "  Text(20, 0, 'embarrassed'),\n",
       "  Text(21, 0, 'disgusted'),\n",
       "  Text(22, 0, 'devastated'),\n",
       "  Text(23, 0, 'caring'),\n",
       "  Text(24, 0, 'trusting'),\n",
       "  Text(25, 0, 'ashamed'),\n",
       "  Text(26, 0, 'apprehensive'),\n",
       "  Text(27, 0, 'content'),\n",
       "  Text(28, 0, 'impressed'),\n",
       "  Text(29, 0, 'guilty'),\n",
       "  Text(30, 0, 'sentimental'),\n",
       "  Text(31, 0, 'faithful')])"
      ]
     },
     "execution_count": 240,
     "metadata": {},
     "output_type": "execute_result"
    },
    {
     "data": {
      "image/png": "[encoded data removed]",
      "text/plain": [
       "<Figure size 640x480 with 1 Axes>"
      ]
     },
     "metadata": {},
     "output_type": "display_data"
    }
   ],
   "source": [
    "import matplotlib.pyplot as plt\n",
    "\n",
    "# répartition par contexte dial GPT\n",
    "context_counts_GPT = dial_GPT2['context'].value_counts() # calcule le nombre d'occurence de chaque contexte\n",
    "bars = plt.bar(context_counts_GPT.index, context_counts_GPT.values, color='skyblue', edgecolor='black')\n",
    "\n",
    "# répartition du contexte dial human\n",
    "context_counts_human = human_dial['context'].value_counts()\n",
    "bars = plt.bar(context_counts_human.index,context_counts_human.values,edgecolor='black',color='red')\n",
    "plt.xticks(rotation=90)\n",
    "\n",
    "\n",
    "\n"
   ]
  },
  {
   "cell_type": "markdown",
   "metadata": {},
   "source": [
    "<font color=\"red\">1.2 Question:</font> Summarize your findings during the preprocessing process. Do you think we should include all the available contexts for our study? Why? 'Context' here refer to a column name in EmpatheticDialogue csv file."
   ]
  },
  {
   "cell_type": "markdown",
   "metadata": {
    "slideshow": {
     "slide_type": "fragment"
    },
    "vscode": {
     "languageId": "plaintext"
    }
   },
   "source": [
    "<font color=\"orange\">1.2 Answer:</font> "
   ]
  },
  {
   "cell_type": "code",
   "execution_count": null,
   "metadata": {},
   "outputs": [],
   "source": [
    "# To-do\n"
   ]
  },
  {
   "cell_type": "markdown",
   "metadata": {},
   "source": [
    "<font color=\"red\">2.1 Question:</font> Understand the prompting design used in 2GPTEmpathicDialogue generation. What are the advantages and limitations of this setting?"
   ]
  },
  {
   "cell_type": "markdown",
   "metadata": {},
   "source": [
    "<font color=\"orange\">2.1 Answer:</font> "
   ]
  },
  {
   "cell_type": "code",
   "execution_count": null,
   "metadata": {},
   "outputs": [],
   "source": [
    "# # Après avoir créé les attribut_id pour GPT, on se rend compte chaque tour par quatre balises différentes possibles: speaker/listener/assistant1/assistant2.\n",
    "# On se pose la question de savoir s'il faut retenir attribut 1/attribut 2 et/ou speaker/listener.\n",
    "# L'étude du code nous montre qu'il existe deux GPT qui essaient de converser : attribut 1 et attribut 2.\n",
    "# Problème: dans certains cas, le GPT se retrouve à être speaker puis à enchainer en étant listener, puis speaker ... avant d'être interrompu par le deuxième GPT et changer d'assitant.\n",
    "# On remarque également que la séparation listener/speaker au sein d'un même tour attribut est séparé par un double retour chariot (/n/n) alors que la séparation\n",
    "# attribut 1/attribut2 est faite par un simple /n.\n",
    "\n",
    "# Choix faits: on décide que les monologues listener/speaker générés pas un GPT ont du sens linguistique. On décide donc de les garder. \n",
    "# Il subsiste cependant une interrogation sur la gestion des éléments tronqués:\n",
    "# - assistant qui a coupé la parole qui commence à parler avec une phrase tronquée qui commence par une ponctuation, minuscule ...\n",
    "# - assistant qui a la parole coupée qui ne termine pas sa phrase.\n",
    "# Dans ces deux cas, les phrases n'ont pas de sens. \n",
    "# Problématique de ces interventions tronquées:\n",
    "# - elles n'ont pas de sens linguistique;\n",
    "# - on a un enchaninement assistant 1 (speaker) -> assistant 2 (speaker)\n",
    "# On a donc l'enchainement de speaker/speaker ou listener/listener qui font perdre l'alternance logique speaker/listener.\n"
   ]
  },
  {
   "cell_type": "markdown",
   "metadata": {},
   "source": [
    "# <font color=\"green\">**3 - Linguistic Feature for the Affective State between Participants**</font>\n",
    "\n",
    "LSM is a linguistic feature related to affect analysis. You can add more as you like. You need to make sure each of your choice is supported by at least one published paper since the references are required. You need to check how to calculate each of the feature using dialogue text."
   ]
  },
  {
   "cell_type": "markdown",
   "metadata": {},
   "source": [
    "<font color=\"red\">3.0 Question:</font> What is the affect analysis? What are possible scenario/application for affect analysis?"
   ]
  },
  {
   "cell_type": "markdown",
   "metadata": {},
   "source": [
    "<font color=\"orange\">3.0 Answer:</font> "
   ]
  },
  {
   "cell_type": "code",
   "execution_count": null,
   "metadata": {},
   "outputs": [],
   "source": [
    "# L'analyse de affects est une méthode d’évaluation automatique des émotions et des sentiments exprimés dans un texte, un discours, une image ou même une vidéo.\n",
    "# Elle cherche à déterminer l’état émotionnel d’une personne à partir de son langage ou de ses comportements.\n",
    "# utilisations possibles : psychologie/Marketing/Intelligence artificielle..."
   ]
  },
  {
   "cell_type": "markdown",
   "metadata": {},
   "source": [
    "<font color=\"red\">3.1 Question:</font> How can the selected linguistic features be implemented for affective state analysis? If you use any open-source libraries or tools, please specify them and reference them in your code."
   ]
  },
  {
   "cell_type": "markdown",
   "metadata": {},
   "source": [
    "<font color=\"orange\">3.1 Answer:</font> "
   ]
  },
  {
   "cell_type": "code",
   "execution_count": null,
   "metadata": {},
   "outputs": [],
   "source": [
    "# L’analyse des états affectifs consiste à détecter les émotions ou sentiments exprimés dans un texte à partir de caractéristiques linguistiques: ces caractéristiques peuvent proenir du lexique, \n",
    "# de la synthaxe, de la sémantique ...\n",
    "# Bibliothèque possible: NLTK et VADER"
   ]
  },
  {
   "cell_type": "markdown",
   "metadata": {},
   "source": [
    "<font color=\"red\">3.2 Question:</font> Is affective state impacted by scenario setting? What are the scenario that achieve highest affective state between human participants? Does ChatGPT generated conversation share the same answer?"
   ]
  },
  {
   "cell_type": "markdown",
   "metadata": {},
   "source": [
    "<font color=\"orange\">3.2 Answer:</font> "
   ]
  },
  {
   "cell_type": "code",
   "execution_count": null,
   "metadata": {},
   "outputs": [],
   "source": [
    "import nltk\n",
    "nltk.download('punkt')\n",
    "nltk.download('averaged_perceptron_tagger')\n",
    "from nltk.stem import WordNetLemmatizer\n",
    "\n",
    "from nrclex import NRCLex       # NRCLex est une petite bibliothèque Python qui permet d’utiliser directement le NRC Emotion Lexicon (appelé aussi EmoLex)\n",
    "\n",
    "import spacy\n",
    "\n",
    "import os\n",
    "nlp = spacy.load(\"en_core_web_sm\")\n",
    "n_cpus = os.cpu_count()\n",
    "print(f\"Using {n_cpus} CPU cores\")\n",
    "\n",
    "texts = human_dial['utterance'].tolist()\n",
    "docs = list(nlp.pipe(texts, n_process=n_cpus - 1))  # ici la parallélisation est activée\n",
    "\n",
    "# Récupérer les tokens et leurs POS\n",
    "human_dial['utterance_tag_POS'] = [[(token.text, token.pos_) for token in doc] for doc in docs]\n",
    "\n",
    "# création d'un dictionnaire de mapping\n",
    "\n",
    "# associer chaque token à une catégorie de LSM\n",
    "\n",
    "CATEGORIES = {\n",
    "    \"pronouns\": [\"PRON\"],\n",
    "    \"articles\": [\"DET\"],\n",
    "    \"prepositions\": [\"ADP\"],\n",
    "    \"aux_verbs\": [\"AUX\", \"VERB\"],\n",
    "    \"adverbs\": [\"ADV\"],\n",
    "    \"conjunctions\": [\"CCONJ\"],\n",
    "    \"negations\": [\"ADV\"],  # + filtre lexical\n",
    "}\n",
    "\n",
    "def map_pos_to_category(tag, word):\n",
    "    for cat, tags in CATEGORIES.items():\n",
    "        if tag in tags:\n",
    "            # Cas particulier : la catégorie \"negations\" ne s'applique\n",
    "            # que si le mot est bien une négation connue\n",
    "            if cat == \"negations\" and word not in [\"no\", \"not\", \"never\", \"n't\"]:\n",
    "                continue\n",
    "            return cat\n",
    "    return None\n",
    "\n",
    "def categorize_tokens(tagged_tokens):\n",
    "    categorized = []\n",
    "    for word, pos in tagged_tokens:\n",
    "        cat = map_pos_to_category(pos, word)\n",
    "        categorized.append((word, pos, cat))\n",
    "    return categorized\n",
    "\n",
    "human_dial['utterance_tag_POS_cat']=human_dial['utterance_tag_POS'].apply(categorize_tokens)\n",
    "\n",
    "# compter les occurences de chaque catégorie\n",
    "def count_categories(tagged_list):\n",
    "    counts = {}\n",
    "    for _, _, cat in tagged_list:\n",
    "        if cat:\n",
    "            counts[cat] = counts.get(cat, 0) + 1\n",
    "    return counts\n",
    "\n",
    "human_dial['utterance_lsm_counts'] = human_dial['utterance_tag_POS_cat'].apply(count_categories)\n",
    "\n",
    "# mettre utterance_lsm_count sous forme de colonne\n",
    "human_dial_cat = pd.json_normalize(human_dial['utterance_lsm_counts'])\n",
    "human_dial_cat = human_dial_cat.fillna(0).add_prefix('lsm_')\n",
    "\n",
    "# concaténer human_dial avec human_dial_cat\n",
    "human_dial = human_dial.reset_index(drop=True)\n",
    "human_dial_cat = human_dial_cat.reset_index(drop=True)\n",
    "\n",
    "human_dial = pd.concat([human_dial, human_dial_cat], axis=1)\n",
    "\n",
    "# compte de la longueur de token sur chaque ligne\n",
    "human_dial['len_token_utterance'] = human_dial['utterance_tag_POS'].apply(len)\n",
    "# normalisation des colonnes catégorielles\n",
    "    # sélection des colonnes\n",
    "lsm_cols=[col for col in human_dial.columns if col.startswith('lsm_')]\n",
    "    # normalisation des colonnes\n",
    "human_dial[lsm_cols]=human_dial[lsm_cols].div(human_dial['len_token_utterance'],axis=0)\n",
    "\n",
    "\n",
    "#création de speaker\n",
    "human_dial['speaker']=np.where(human_dial['utterance_idx']%2==0,'speaker A','speaker B')\n",
    "\n",
    "# moyenne par speaker\n",
    "    # sélection des colonnes catégories\n",
    "lsm_col = [col for col in human_dial.columns if col.startswith('lsm_')]\n",
    "speakers_huma_mean = human_dial.groupby('speaker')[lsm_col].mean()\n",
    "#print(speakers_huma_mean)\n",
    "\n",
    "# calcul des moyennes globales\n",
    "speaker_human_LSM_mean_mean = speakers_huma_mean.mean(axis=1)\n"
   ]
  },
  {
   "cell_type": "code",
   "execution_count": 250,
   "metadata": {},
   "outputs": [
    {
     "data": {
      "application/vnd.microsoft.datawrangler.viewer.v0+json": {
       "columns": [
        {
         "name": "index",
         "rawType": "int64",
         "type": "integer"
        },
        {
         "name": "Unnamed: 0",
         "rawType": "int64",
         "type": "integer"
        },
        {
         "name": "conv_id",
         "rawType": "object",
         "type": "string"
        },
        {
         "name": "context",
         "rawType": "object",
         "type": "string"
        },
        {
         "name": "prompt",
         "rawType": "object",
         "type": "string"
        },
        {
         "name": "gptgen",
         "rawType": "object",
         "type": "string"
        },
        {
         "name": "processed",
         "rawType": "object",
         "type": "string"
        },
        {
         "name": "utterance_idx",
         "rawType": "int64",
         "type": "integer"
        }
       ],
       "ref": "84186c61-182c-471e-a9cc-561fca328d5f",
       "rows": [
        [
         "0",
         "0",
         "hit:0_conv:1",
         "sentimental",
         "I remember going to the fireworks with my best friend. There was a lot of people_comma_ but it only felt like us in the world.",
         "assistant1: I know exactly what you mean. There's something magical about being surrounded by a crowd of people, yet feeling like it's just you and your best friend in that moment. It's as if time stands still, and all that matters is the bond you share.\nassistant2: That sounds like such a special and beautiful experience. It's amazing how certain moments can make us feel so connected and close to someone, even in the midst of a crowd. It's like the world fades away and all that matters is the deep connection between you and your best friend.\nassistant1: Absolutely, it truly was a special and beautiful experience. You're right, those moments when it feels like the world fades away and all that matters is the connection between you and your best friend are truly magical. It's like time stands still and all the noise and distractions around us just disappear. It's in those moments that we realize how much we mean to each other and how fortunate we are to have such a strong bond.\nassistant2: I completely understand what you're saying. It's those moments of pure connection and intimacy that can make us feel so alive and grateful. It's like the world fades away, and all that matters is the deep bond between you and your best friend. It's in those moments that we truly appreciate the power of friendship and how it can bring so much joy and comfort. It sounds like you've had some truly magical experiences, and I'm glad you've been able to cherish them.",
         " i know exactly what you mean. there's something magical about being surrounded by a crowd of people, yet feeling like it's just you and your best friend in that moment. it's as if time stands still, and all that matters is the bond you share.",
         "1"
        ],
        [
         "0",
         "0",
         "hit:0_conv:1",
         "sentimental",
         "I remember going to the fireworks with my best friend. There was a lot of people_comma_ but it only felt like us in the world.",
         "assistant1: I know exactly what you mean. There's something magical about being surrounded by a crowd of people, yet feeling like it's just you and your best friend in that moment. It's as if time stands still, and all that matters is the bond you share.\nassistant2: That sounds like such a special and beautiful experience. It's amazing how certain moments can make us feel so connected and close to someone, even in the midst of a crowd. It's like the world fades away and all that matters is the deep connection between you and your best friend.\nassistant1: Absolutely, it truly was a special and beautiful experience. You're right, those moments when it feels like the world fades away and all that matters is the connection between you and your best friend are truly magical. It's like time stands still and all the noise and distractions around us just disappear. It's in those moments that we realize how much we mean to each other and how fortunate we are to have such a strong bond.\nassistant2: I completely understand what you're saying. It's those moments of pure connection and intimacy that can make us feel so alive and grateful. It's like the world fades away, and all that matters is the deep bond between you and your best friend. It's in those moments that we truly appreciate the power of friendship and how it can bring so much joy and comfort. It sounds like you've had some truly magical experiences, and I'm glad you've been able to cherish them.",
         " that sounds like such a special and beautiful experience. it's amazing how certain moments can make us feel so connected and close to someone, even in the midst of a crowd. it's like the world fades away and all that matters is the deep connection between you and your best friend.",
         "2"
        ],
        [
         "0",
         "0",
         "hit:0_conv:1",
         "sentimental",
         "I remember going to the fireworks with my best friend. There was a lot of people_comma_ but it only felt like us in the world.",
         "assistant1: I know exactly what you mean. There's something magical about being surrounded by a crowd of people, yet feeling like it's just you and your best friend in that moment. It's as if time stands still, and all that matters is the bond you share.\nassistant2: That sounds like such a special and beautiful experience. It's amazing how certain moments can make us feel so connected and close to someone, even in the midst of a crowd. It's like the world fades away and all that matters is the deep connection between you and your best friend.\nassistant1: Absolutely, it truly was a special and beautiful experience. You're right, those moments when it feels like the world fades away and all that matters is the connection between you and your best friend are truly magical. It's like time stands still and all the noise and distractions around us just disappear. It's in those moments that we realize how much we mean to each other and how fortunate we are to have such a strong bond.\nassistant2: I completely understand what you're saying. It's those moments of pure connection and intimacy that can make us feel so alive and grateful. It's like the world fades away, and all that matters is the deep bond between you and your best friend. It's in those moments that we truly appreciate the power of friendship and how it can bring so much joy and comfort. It sounds like you've had some truly magical experiences, and I'm glad you've been able to cherish them.",
         " absolutely, it truly was a special and beautiful experience. you're right, those moments when it feels like the world fades away and all that matters is the connection between you and your best friend are truly magical. it's like time stands still and all the noise and distractions around us just disappear. it's in those moments that we realize how much we mean to each other and how fortunate we are to have such a strong bond.",
         "3"
        ],
        [
         "0",
         "0",
         "hit:0_conv:1",
         "sentimental",
         "I remember going to the fireworks with my best friend. There was a lot of people_comma_ but it only felt like us in the world.",
         "assistant1: I know exactly what you mean. There's something magical about being surrounded by a crowd of people, yet feeling like it's just you and your best friend in that moment. It's as if time stands still, and all that matters is the bond you share.\nassistant2: That sounds like such a special and beautiful experience. It's amazing how certain moments can make us feel so connected and close to someone, even in the midst of a crowd. It's like the world fades away and all that matters is the deep connection between you and your best friend.\nassistant1: Absolutely, it truly was a special and beautiful experience. You're right, those moments when it feels like the world fades away and all that matters is the connection between you and your best friend are truly magical. It's like time stands still and all the noise and distractions around us just disappear. It's in those moments that we realize how much we mean to each other and how fortunate we are to have such a strong bond.\nassistant2: I completely understand what you're saying. It's those moments of pure connection and intimacy that can make us feel so alive and grateful. It's like the world fades away, and all that matters is the deep bond between you and your best friend. It's in those moments that we truly appreciate the power of friendship and how it can bring so much joy and comfort. It sounds like you've had some truly magical experiences, and I'm glad you've been able to cherish them.",
         " i completely understand what you're saying. it's those moments of pure connection and intimacy that can make us feel so alive and grateful. it's like the world fades away, and all that matters is the deep bond between you and your best friend. it's in those moments that we truly appreciate the power of friendship and how it can bring so much joy and comfort. it sounds like you've had some truly magical experiences, and i'm glad you've been able to cherish them.",
         "4"
        ],
        [
         "1",
         "1",
         "hit:10000_conv:20000",
         "surprised",
         "My girlfriend got me a toad today! I was so shocked and happy!",
         "assistant1: That's amazing! How did she know you wanted a toad?\nassistant2: Wow, that sounds like such a cool surprise! It must have been really special for her to know exactly what you wanted.\nassistant1: Yes, it was absolutely amazing! I never expected her to get me a toad, but she knows how much I love them. It just goes to show how well she knows me. I couldn't be happier!\nassistant2: Wow, it sounds like your friend has a great understanding of your interests and preferences. It must feel really special to have someone who knows you so well. I can imagine how happy and grateful you must be for such a thoughtful gift.",
         " that's amazing! how did she know you wanted a toad?",
         "1"
        ]
       ],
       "shape": {
        "columns": 7,
        "rows": 5
       }
      },
      "text/html": [
       "<div>\n",
       "<style scoped>\n",
       "    .dataframe tbody tr th:only-of-type {\n",
       "        vertical-align: middle;\n",
       "    }\n",
       "\n",
       "    .dataframe tbody tr th {\n",
       "        vertical-align: top;\n",
       "    }\n",
       "\n",
       "    .dataframe thead th {\n",
       "        text-align: right;\n",
       "    }\n",
       "</style>\n",
       "<table border=\"1\" class=\"dataframe\">\n",
       "  <thead>\n",
       "    <tr style=\"text-align: right;\">\n",
       "      <th></th>\n",
       "      <th>Unnamed: 0</th>\n",
       "      <th>conv_id</th>\n",
       "      <th>context</th>\n",
       "      <th>prompt</th>\n",
       "      <th>gptgen</th>\n",
       "      <th>processed</th>\n",
       "      <th>utterance_idx</th>\n",
       "    </tr>\n",
       "  </thead>\n",
       "  <tbody>\n",
       "    <tr>\n",
       "      <th>0</th>\n",
       "      <td>0</td>\n",
       "      <td>hit:0_conv:1</td>\n",
       "      <td>sentimental</td>\n",
       "      <td>I remember going to the fireworks with my best...</td>\n",
       "      <td>assistant1: I know exactly what you mean. Ther...</td>\n",
       "      <td>i know exactly what you mean. there's somethi...</td>\n",
       "      <td>1</td>\n",
       "    </tr>\n",
       "    <tr>\n",
       "      <th>0</th>\n",
       "      <td>0</td>\n",
       "      <td>hit:0_conv:1</td>\n",
       "      <td>sentimental</td>\n",
       "      <td>I remember going to the fireworks with my best...</td>\n",
       "      <td>assistant1: I know exactly what you mean. Ther...</td>\n",
       "      <td>that sounds like such a special and beautiful...</td>\n",
       "      <td>2</td>\n",
       "    </tr>\n",
       "    <tr>\n",
       "      <th>0</th>\n",
       "      <td>0</td>\n",
       "      <td>hit:0_conv:1</td>\n",
       "      <td>sentimental</td>\n",
       "      <td>I remember going to the fireworks with my best...</td>\n",
       "      <td>assistant1: I know exactly what you mean. Ther...</td>\n",
       "      <td>absolutely, it truly was a special and beauti...</td>\n",
       "      <td>3</td>\n",
       "    </tr>\n",
       "    <tr>\n",
       "      <th>0</th>\n",
       "      <td>0</td>\n",
       "      <td>hit:0_conv:1</td>\n",
       "      <td>sentimental</td>\n",
       "      <td>I remember going to the fireworks with my best...</td>\n",
       "      <td>assistant1: I know exactly what you mean. Ther...</td>\n",
       "      <td>i completely understand what you're saying. i...</td>\n",
       "      <td>4</td>\n",
       "    </tr>\n",
       "    <tr>\n",
       "      <th>1</th>\n",
       "      <td>1</td>\n",
       "      <td>hit:10000_conv:20000</td>\n",
       "      <td>surprised</td>\n",
       "      <td>My girlfriend got me a toad today! I was so sh...</td>\n",
       "      <td>assistant1: That's amazing! How did she know y...</td>\n",
       "      <td>that's amazing! how did she know you wanted a...</td>\n",
       "      <td>1</td>\n",
       "    </tr>\n",
       "  </tbody>\n",
       "</table>\n",
       "</div>"
      ],
      "text/plain": [
       "   Unnamed: 0               conv_id      context  \\\n",
       "0           0          hit:0_conv:1  sentimental   \n",
       "0           0          hit:0_conv:1  sentimental   \n",
       "0           0          hit:0_conv:1  sentimental   \n",
       "0           0          hit:0_conv:1  sentimental   \n",
       "1           1  hit:10000_conv:20000    surprised   \n",
       "\n",
       "                                              prompt  \\\n",
       "0  I remember going to the fireworks with my best...   \n",
       "0  I remember going to the fireworks with my best...   \n",
       "0  I remember going to the fireworks with my best...   \n",
       "0  I remember going to the fireworks with my best...   \n",
       "1  My girlfriend got me a toad today! I was so sh...   \n",
       "\n",
       "                                              gptgen  \\\n",
       "0  assistant1: I know exactly what you mean. Ther...   \n",
       "0  assistant1: I know exactly what you mean. Ther...   \n",
       "0  assistant1: I know exactly what you mean. Ther...   \n",
       "0  assistant1: I know exactly what you mean. Ther...   \n",
       "1  assistant1: That's amazing! How did she know y...   \n",
       "\n",
       "                                           processed  utterance_idx  \n",
       "0   i know exactly what you mean. there's somethi...              1  \n",
       "0   that sounds like such a special and beautiful...              2  \n",
       "0   absolutely, it truly was a special and beauti...              3  \n",
       "0   i completely understand what you're saying. i...              4  \n",
       "1   that's amazing! how did she know you wanted a...              1  "
      ]
     },
     "execution_count": 250,
     "metadata": {},
     "output_type": "execute_result"
    }
   ],
   "source": [
    "dial_GPT2.head()\n"
   ]
  },
  {
   "cell_type": "code",
   "execution_count": 251,
   "metadata": {},
   "outputs": [
    {
     "ename": "ValueError",
     "evalue": "Length of values (107220) does not match length of index (160885)",
     "output_type": "error",
     "traceback": [
      "\u001b[31m---------------------------------------------------------------------------\u001b[39m",
      "\u001b[31mValueError\u001b[39m                                Traceback (most recent call last)",
      "\u001b[36mCell\u001b[39m\u001b[36m \u001b[39m\u001b[32mIn[251]\u001b[39m\u001b[32m, line 5\u001b[39m\n\u001b[32m      2\u001b[39m docs_GPT = \u001b[38;5;28mlist\u001b[39m(nlp.pipe(text_GPT, n_process=n_cpus - \u001b[32m1\u001b[39m))  \u001b[38;5;66;03m# ici la parallélisation est activée\u001b[39;00m\n\u001b[32m      4\u001b[39m \u001b[38;5;66;03m# Récupérer les tokens et leurs POS\u001b[39;00m\n\u001b[32m----> \u001b[39m\u001b[32m5\u001b[39m \u001b[43mdial_GPT2\u001b[49m\u001b[43m[\u001b[49m\u001b[33;43m'\u001b[39;49m\u001b[33;43mutterance_tag_POS\u001b[39;49m\u001b[33;43m'\u001b[39;49m\u001b[43m]\u001b[49m = [[(token.text, token.pos_) \u001b[38;5;28;01mfor\u001b[39;00m token \u001b[38;5;129;01min\u001b[39;00m doc] \u001b[38;5;28;01mfor\u001b[39;00m doc \u001b[38;5;129;01min\u001b[39;00m docs]\n\u001b[32m      7\u001b[39m \u001b[38;5;66;03m# création d'un dictionnaire de mapping\u001b[39;00m\n\u001b[32m      8\u001b[39m \n\u001b[32m      9\u001b[39m \u001b[38;5;66;03m# associer chaque token à une catégorie de LSM\u001b[39;00m\n\u001b[32m     11\u001b[39m CATEGORIES = {\n\u001b[32m     12\u001b[39m     \u001b[33m\"\u001b[39m\u001b[33mpronouns\u001b[39m\u001b[33m\"\u001b[39m: [\u001b[33m\"\u001b[39m\u001b[33mPRON\u001b[39m\u001b[33m\"\u001b[39m],\n\u001b[32m     13\u001b[39m     \u001b[33m\"\u001b[39m\u001b[33marticles\u001b[39m\u001b[33m\"\u001b[39m: [\u001b[33m\"\u001b[39m\u001b[33mDET\u001b[39m\u001b[33m\"\u001b[39m],\n\u001b[32m   (...)\u001b[39m\u001b[32m     18\u001b[39m     \u001b[33m\"\u001b[39m\u001b[33mnegations\u001b[39m\u001b[33m\"\u001b[39m: [\u001b[33m\"\u001b[39m\u001b[33mADV\u001b[39m\u001b[33m\"\u001b[39m],  \u001b[38;5;66;03m# + filtre lexical\u001b[39;00m\n\u001b[32m     19\u001b[39m }\n",
      "\u001b[36mFile \u001b[39m\u001b[32m~/Documents/Box_clean/Années/2025-2026/MS TELECOM PARIS/Projets_TP/Projet NL_LLMs/.env/lib/python3.12/site-packages/pandas/core/frame.py:4316\u001b[39m, in \u001b[36m__setitem__\u001b[39m\u001b[34m(self, key, value)\u001b[39m\n\u001b[32m   4311\u001b[39m \u001b[38;5;28;01melif\u001b[39;00m \u001b[38;5;28misinstance\u001b[39m(value, DataFrame):\n\u001b[32m   4312\u001b[39m     \u001b[38;5;28mself\u001b[39m._set_item_frame_value(key, value)\n\u001b[32m   4313\u001b[39m \u001b[38;5;28;01melif\u001b[39;00m (\n\u001b[32m   4314\u001b[39m     is_list_like(value)\n\u001b[32m   4315\u001b[39m     \u001b[38;5;129;01mand\u001b[39;00m \u001b[38;5;129;01mnot\u001b[39;00m \u001b[38;5;28mself\u001b[39m.columns.is_unique\n\u001b[32m-> \u001b[39m\u001b[32m4316\u001b[39m     \u001b[38;5;129;01mand\u001b[39;00m \u001b[32m1\u001b[39m < \u001b[38;5;28mlen\u001b[39m(\u001b[38;5;28mself\u001b[39m.columns.get_indexer_for([key])) == \u001b[38;5;28mlen\u001b[39m(value)\n\u001b[32m   4317\u001b[39m ):\n\u001b[32m   4318\u001b[39m     \u001b[38;5;66;03m# Column to set is duplicated\u001b[39;00m\n\u001b[32m   4319\u001b[39m     \u001b[38;5;28mself\u001b[39m._setitem_array([key], value)\n\u001b[32m   4320\u001b[39m \u001b[38;5;28;01melse\u001b[39;00m:\n\u001b[32m   4321\u001b[39m     \u001b[38;5;66;03m# set column\u001b[39;00m\n",
      "\u001b[36mFile \u001b[39m\u001b[32m~/Documents/Box_clean/Années/2025-2026/MS TELECOM PARIS/Projets_TP/Projet NL_LLMs/.env/lib/python3.12/site-packages/pandas/core/frame.py:4529\u001b[39m, in \u001b[36m_set_item\u001b[39m\u001b[34m(self, key, value)\u001b[39m\n\u001b[32m   4525\u001b[39m \u001b[38;5;28;01mdef\u001b[39;00m\u001b[38;5;250m \u001b[39m\u001b[34m_set_item\u001b[39m(\u001b[38;5;28mself\u001b[39m, key, value) -> \u001b[38;5;28;01mNone\u001b[39;00m:\n\u001b[32m   4526\u001b[39m \u001b[38;5;250m    \u001b[39m\u001b[33;03m\"\"\"\u001b[39;00m\n\u001b[32m   4527\u001b[39m \u001b[33;03m    Add series to DataFrame in specified column.\u001b[39;00m\n\u001b[32m   4528\u001b[39m \n\u001b[32m-> \u001b[39m\u001b[32m4529\u001b[39m \u001b[33;03m    If series is a numpy-array (not a Series/TimeSeries), it must be the\u001b[39;00m\n\u001b[32m   4530\u001b[39m \u001b[33;03m    same length as the DataFrames index or an error will be thrown.\u001b[39;00m\n\u001b[32m   4531\u001b[39m \n\u001b[32m   4532\u001b[39m \u001b[33;03m    Series/TimeSeries will be conformed to the DataFrames index to\u001b[39;00m\n\u001b[32m   4533\u001b[39m \u001b[33;03m    ensure homogeneity.\u001b[39;00m\n\u001b[32m   4534\u001b[39m \u001b[33;03m    \"\"\"\u001b[39;00m\n\u001b[32m   4535\u001b[39m     value, refs = \u001b[38;5;28mself\u001b[39m._sanitize_column(value)\n\u001b[32m   4537\u001b[39m     \u001b[38;5;28;01mif\u001b[39;00m (\n\u001b[32m   4538\u001b[39m         key \u001b[38;5;129;01min\u001b[39;00m \u001b[38;5;28mself\u001b[39m.columns\n\u001b[32m   4539\u001b[39m         \u001b[38;5;129;01mand\u001b[39;00m value.ndim == \u001b[32m1\u001b[39m\n\u001b[32m   4540\u001b[39m         \u001b[38;5;129;01mand\u001b[39;00m \u001b[38;5;129;01mnot\u001b[39;00m \u001b[38;5;28misinstance\u001b[39m(value.dtype, ExtensionDtype)\n\u001b[32m   4541\u001b[39m     ):\n\u001b[32m   4542\u001b[39m         \u001b[38;5;66;03m# broadcast across multiple columns if necessary\u001b[39;00m\n",
      "\u001b[36mFile \u001b[39m\u001b[32m~/Documents/Box_clean/Années/2025-2026/MS TELECOM PARIS/Projets_TP/Projet NL_LLMs/.env/lib/python3.12/site-packages/pandas/core/frame.py:5273\u001b[39m, in \u001b[36m_sanitize_column\u001b[39m\u001b[34m(self, value)\u001b[39m\n\u001b[32m   5264\u001b[39m \u001b[38;5;28;01mdef\u001b[39;00m\u001b[38;5;250m \u001b[39m\u001b[34m_sanitize_column\u001b[39m(\u001b[38;5;28mself\u001b[39m, value) -> \u001b[38;5;28mtuple\u001b[39m[ArrayLike, BlockValuesRefs | \u001b[38;5;28;01mNone\u001b[39;00m]:\n\u001b[32m   5265\u001b[39m \u001b[38;5;250m    \u001b[39m\u001b[33;03m\"\"\"\u001b[39;00m\n\u001b[32m   5266\u001b[39m \u001b[33;03m    Ensures new columns (which go into the BlockManager as new blocks) are\u001b[39;00m\n\u001b[32m   5267\u001b[39m \u001b[33;03m    always copied (or a reference is being tracked to them under CoW)\u001b[39;00m\n\u001b[32m   5268\u001b[39m \u001b[33;03m    and converted into an array.\u001b[39;00m\n\u001b[32m   5269\u001b[39m \n\u001b[32m   5270\u001b[39m \u001b[33;03m    Parameters\u001b[39;00m\n\u001b[32m   5271\u001b[39m \u001b[33;03m    ----------\u001b[39;00m\n\u001b[32m   5272\u001b[39m \u001b[33;03m    value : scalar, Series, or array-like\u001b[39;00m\n\u001b[32m-> \u001b[39m\u001b[32m5273\u001b[39m \n\u001b[32m   5274\u001b[39m \u001b[33;03m    Returns\u001b[39;00m\n\u001b[32m   5275\u001b[39m \u001b[33;03m    -------\u001b[39;00m\n\u001b[32m   5276\u001b[39m \u001b[33;03m    tuple of numpy.ndarray or ExtensionArray and optional BlockValuesRefs\u001b[39;00m\n\u001b[32m   5277\u001b[39m \u001b[33;03m    \"\"\"\u001b[39;00m\n\u001b[32m   5278\u001b[39m     \u001b[38;5;28mself\u001b[39m._ensure_valid_index(value)\n\u001b[32m   5280\u001b[39m     \u001b[38;5;66;03m# Using a DataFrame would mean coercing values to one dtype\u001b[39;00m\n",
      "\u001b[36mFile \u001b[39m\u001b[32m~/Documents/Box_clean/Années/2025-2026/MS TELECOM PARIS/Projets_TP/Projet NL_LLMs/.env/lib/python3.12/site-packages/pandas/core/common.py:573\u001b[39m, in \u001b[36mrequire_length_match\u001b[39m\u001b[34m(data, index)\u001b[39m\n\u001b[32m    569\u001b[39m \u001b[38;5;250m\u001b[39m\u001b[33;03m\"\"\"\u001b[39;00m\n\u001b[32m    570\u001b[39m \u001b[33;03mCheck the length of data matches the length of the index.\u001b[39;00m\n\u001b[32m    571\u001b[39m \u001b[33;03m\"\"\"\u001b[39;00m\n\u001b[32m    572\u001b[39m \u001b[38;5;28;01mif\u001b[39;00m \u001b[38;5;28mlen\u001b[39m(data) != \u001b[38;5;28mlen\u001b[39m(index):\n\u001b[32m--> \u001b[39m\u001b[32m573\u001b[39m     \u001b[38;5;28;01mraise\u001b[39;00m \u001b[38;5;167;01mValueError\u001b[39;00m(\n\u001b[32m    574\u001b[39m         \u001b[33m\"\u001b[39m\u001b[33mLength of values \u001b[39m\u001b[33m\"\u001b[39m\n\u001b[32m    575\u001b[39m         \u001b[33mf\u001b[39m\u001b[33m\"\u001b[39m\u001b[33m(\u001b[39m\u001b[38;5;132;01m{\u001b[39;00m\u001b[38;5;28mlen\u001b[39m(data)\u001b[38;5;132;01m}\u001b[39;00m\u001b[33m) \u001b[39m\u001b[33m\"\u001b[39m\n\u001b[32m    576\u001b[39m         \u001b[33m\"\u001b[39m\u001b[33mdoes not match length of index \u001b[39m\u001b[33m\"\u001b[39m\n\u001b[32m    577\u001b[39m         \u001b[33mf\u001b[39m\u001b[33m\"\u001b[39m\u001b[33m(\u001b[39m\u001b[38;5;132;01m{\u001b[39;00m\u001b[38;5;28mlen\u001b[39m(index)\u001b[38;5;132;01m}\u001b[39;00m\u001b[33m)\u001b[39m\u001b[33m\"\u001b[39m\n\u001b[32m    578\u001b[39m     )\n",
      "\u001b[31mValueError\u001b[39m: Length of values (107220) does not match length of index (160885)"
     ]
    }
   ],
   "source": [
    "text_GPT = dial_GPT2['processed'].tolist()\n",
    "docs_GPT = list(nlp.pipe(text_GPT, n_process=n_cpus - 1))  # ici la parallélisation est activée\n",
    "\n",
    "# Récupérer les tokens et leurs POS\n",
    "dial_GPT2['utterance_tag_POS'] = [[(token.text, token.pos_) for token in doc] for doc in docs]\n",
    "\n",
    "# création d'un dictionnaire de mapping\n",
    "\n",
    "# associer chaque token à une catégorie de LSM\n",
    "\n",
    "CATEGORIES = {\n",
    "    \"pronouns\": [\"PRON\"],\n",
    "    \"articles\": [\"DET\"],\n",
    "    \"prepositions\": [\"ADP\"],\n",
    "    \"aux_verbs\": [\"AUX\", \"VERB\"],\n",
    "    \"adverbs\": [\"ADV\"],\n",
    "    \"conjunctions\": [\"CCONJ\"],\n",
    "    \"negations\": [\"ADV\"],  # + filtre lexical\n",
    "}\n",
    "\n",
    "def map_pos_to_category(tag, word):\n",
    "    for cat, tags in CATEGORIES.items():\n",
    "        if tag in tags:\n",
    "            # Cas particulier : la catégorie \"negations\" ne s'applique\n",
    "            # que si le mot est bien une négation connue\n",
    "            if cat == \"negations\" and word not in [\"no\", \"not\", \"never\", \"n't\"]:\n",
    "                continue\n",
    "            return cat\n",
    "    return None\n",
    "\n",
    "def categorize_tokens(tagged_tokens):\n",
    "    categorized = []\n",
    "    for word, pos in tagged_tokens:\n",
    "        cat = map_pos_to_category(pos, word)\n",
    "        categorized.append((word, pos, cat))\n",
    "    return categorized\n",
    "\n",
    "dial_GPT2['utterance_tag_POS_cat']=dial_GPT2['utterance_tag_POS'].apply(categorize_tokens)\n",
    "\n",
    "# compter les occurences de chaque catégorie\n",
    "def count_categories(tagged_list):\n",
    "    counts = {}\n",
    "    for _, _, cat in tagged_list:\n",
    "        if cat:\n",
    "            counts[cat] = counts.get(cat, 0) + 1\n",
    "    return counts\n",
    "\n",
    "dial_GPT2['utterance_lsm_counts'] = dial_GPT2['utterance_tag_POS_cat'].apply(count_categories)\n",
    "\n",
    "# mettre utterance_lsm_count sous forme de colonne\n",
    "dial_GPT2_cat = pd.json_normalize(dial_GPT2['utterance_lsm_counts'])\n",
    "dial_GPT2_cat = dial_GPT2_cat.fillna(0).add_prefix('lsm_')\n",
    "\n",
    "# concaténer human_dial avec human_dial_cat\n",
    "dial_GPT2 = dial_GPT2.reset_index(drop=True)\n",
    "dial_GPT2_cat = dial_GPT2_cat.reset_index(drop=True)\n",
    "\n",
    "dial_GPT2 = pd.concat([dial_GPT2, dial_GPT2_cat], axis=1)\n",
    "\n",
    "# compte de la longueur de token sur chaque ligne\n",
    "dial_GPT2['len_token_utterance'] = dial_GPT2['utterance_tag_POS'].apply(len)\n",
    "# normalisation des colonnes catégorielles\n",
    "    # sélection des colonnes\n",
    "lsm_cols=[col for col in dial_GPT2.columns if col.startswith('lsm_')]\n",
    "    # normalisation des colonnes\n",
    "dial_GPT2[lsm_cols]=dial_GPT2[lsm_cols].div(dial_GPT2['len_token_utterance'],axis=0)\n",
    "\n",
    "\n",
    "#création de speaker\n",
    "dial_GPT2['speaker']=np.where(dial_GPT2['utterance_idx']%2==0,'speaker A','speaker B')\n",
    "\n",
    "# moyenne par speaker\n",
    "    # sélection des colonnes catégories\n",
    "lsm_col = [col for col in dial_GPT2.columns if col.startswith('lsm_')]\n",
    "speakers_GPT_mean = dial_GPT2.groupby('speaker')[lsm_col].mean()\n",
    "#print(speakers_huma_mean)\n",
    "\n",
    "# calcul des moyennes globales\n",
    "speaker_GPT_LSM_mean_mean = speakers_GPT_mean.mean(axis=1)\n"
   ]
  },
  {
   "cell_type": "markdown",
   "metadata": {},
   "source": [
    "<font color=\"red\">3.3 Question:</font> What are scenarios selected for this project? Why? "
   ]
  },
  {
   "cell_type": "markdown",
   "metadata": {},
   "source": [
    "<font color=\"orange\">3.3 Answer:</font> "
   ]
  },
  {
   "cell_type": "code",
   "execution_count": null,
   "metadata": {},
   "outputs": [],
   "source": []
  },
  {
   "cell_type": "markdown",
   "metadata": {},
   "source": [
    "# <font color=\"green\">**4 - Modeling for ChatGPT-Generated Dialogue Detection**</font>\n",
    "\n",
    "Our first baseline model can be defined since two corpora provide naturally labeled conversations.  "
   ]
  },
  {
   "cell_type": "markdown",
   "metadata": {},
   "source": [
    "<font color=\"red\">4.1 Question:</font> Which word embedding model is used by the paper? Why? Which word embedding model will you use? "
   ]
  },
  {
   "cell_type": "markdown",
   "metadata": {},
   "source": [
    "You can test several word embedding model and choos the one give you the best performance GPT generated dialogue classification."
   ]
  },
  {
   "cell_type": "markdown",
   "metadata": {},
   "source": [
    "<font color=\"orange\">4.1 Answer:</font> "
   ]
  },
  {
   "cell_type": "code",
   "execution_count": null,
   "metadata": {},
   "outputs": [],
   "source": [
    "# Modèle d’embedding utilisé : text-embedding-ada-002\n",
    "# Fournisseur : OpenAI\n",
    "# Type de modèle : modèle de Transformers préentraîné sur de grandes quantités de texte (multilingue, contextuel)\n",
    "# Rôle : générer des représentations vectorielles de phrases ou dialogues qui capturent le sens global et le ton affectif du texte.\n",
    "# \n",
    "# Pourquoi ce choix :\n",
    "# C’est un modèle généraliste, performant et facilement accessible via l’API OpenAI.\n",
    "# Il produit des embeddings contextuels (chaque mot ou phrase est compris selon le sens du texte complet).\n",
    "# Il est léger, rapide et très efficace pour les comparaisons sémantiques, les classifications et les analyses affectives.\n",
    "\n",
    "# La réponse se trouve à la page 9 du rapport universitaire de A Linguistic Comparison between Human and ChatGPT-Generated Conversations"
   ]
  },
  {
   "cell_type": "markdown",
   "metadata": {},
   "source": [
    "<font color=\"red\">4.2 Question:</font> How to define the binary classification task? Test both linear and non-linear models to see which model provide better performance? You can follow the test, train, valid seperation defined inside Empatheticdiaogues corpus."
   ]
  },
  {
   "cell_type": "markdown",
   "metadata": {},
   "source": [
    "<font color=\"orange\">4.2 Answer:</font> "
   ]
  },
  {
   "cell_type": "markdown",
   "metadata": {},
   "source": [
    "<font color=\"red\">4.3 Question:</font> What metrics do you use to evaluate your model's performance? What is the performance of your baseline model? In which scenario does your model achieve the best performance?Present the performance using appropriate graphs and visualizations where possible. "
   ]
  },
  {
   "cell_type": "markdown",
   "metadata": {},
   "source": [
    "<font color=\"orange\">4.3 Answer:</font> "
   ]
  },
  {
   "cell_type": "code",
   "execution_count": null,
   "metadata": {},
   "outputs": [],
   "source": [
    "# To-do\n"
   ]
  },
  {
   "cell_type": "markdown",
   "metadata": {},
   "source": [
    "# <font color=\"green\">5 - Add Selected Features to Your Baseline Model</font>\n",
    "\n",
    "Add calculated features into your baseline model. What is the performance if we use only the linguistic feature for our classification task? How to encode the features and add them to the existing word embedding?"
   ]
  },
  {
   "cell_type": "markdown",
   "metadata": {},
   "source": [
    "<font color=\"red\">5.1 Question:</font> Let's build a linear classifier using only the linguistic feature LSM. What are your best performance?  "
   ]
  },
  {
   "cell_type": "markdown",
   "metadata": {},
   "source": [
    "List the tested linear classifier and their performance. Highlight the scenario that give best performance for each of them."
   ]
  },
  {
   "cell_type": "markdown",
   "metadata": {},
   "source": [
    "<font color=\"orange\">5.1 Answer:</font> "
   ]
  },
  {
   "cell_type": "code",
   "execution_count": null,
   "metadata": {},
   "outputs": [],
   "source": [
    "# To-do"
   ]
  },
  {
   "cell_type": "markdown",
   "metadata": {},
   "source": [
    "<font color=\"red\">5.2 Question:</font> Try adding LSM to your baseline model. What is the nature of the calculated features (scaled, categorical, etc.)? How do you add them to the existing word embedding vector?"
   ]
  },
  {
   "cell_type": "markdown",
   "metadata": {},
   "source": [
    "<font color=\"orange\">5.2 Answer:</font> "
   ]
  },
  {
   "cell_type": "code",
   "execution_count": null,
   "metadata": {},
   "outputs": [],
   "source": [
    "# To-do"
   ]
  },
  {
   "cell_type": "markdown",
   "metadata": {},
   "source": [
    "<font color=\"red\">5.3 Question:</font> After adding LSM to your baseline model, are there any changes in the model's performance? How do you interpret the result? "
   ]
  },
  {
   "cell_type": "markdown",
   "metadata": {},
   "source": [
    "<font color=\"orange\">5.3 Answer:</font> "
   ]
  },
  {
   "cell_type": "code",
   "execution_count": null,
   "metadata": {},
   "outputs": [],
   "source": [
    "# To-do"
   ]
  },
  {
   "cell_type": "markdown",
   "metadata": {},
   "source": [
    "# <font color=\"green\">**6 - Highlight Your Findings**</font>\n",
    "This is an open question. Anything that stands out in your analysis should be highlighted. It could be a significant trend, an anomaly, or a correlation that was unexpected. Use visual aids like graphs or charts to make these findings clear and impactful."
   ]
  }
 ],
 "metadata": {
  "kernelspec": {
   "display_name": ".env",
   "language": "python",
   "name": "python3"
  },
  "language_info": {
   "codemirror_mode": {
    "name": "ipython",
    "version": 3
   },
   "file_extension": ".py",
   "mimetype": "text/x-python",
   "name": "python",
   "nbconvert_exporter": "python",
   "pygments_lexer": "ipython3",
   "version": "3.12.11"
  }
 },
 "nbformat": 4,
 "nbformat_minor": 2
}
